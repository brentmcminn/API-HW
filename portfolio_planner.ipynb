{
 "cells": [
  {
   "cell_type": "code",
   "execution_count": 2,
   "metadata": {
    "collapsed": true
   },
   "outputs": [],
   "source": [
    "import numpy as np\n",
    "import pandas as pd\n",
    "from datetime import datetime, timedelta\n",
    "import matplotlib.pyplot as plt\n",
    "%matplotlib inline"
   ]
  },
  {
   "cell_type": "code",
   "execution_count": 3,
   "metadata": {},
   "outputs": [],
   "source": [
    "np.random.seed(42)"
   ]
  },
  {
   "cell_type": "markdown",
   "metadata": {},
   "source": [
    "# Portfolio Planner\n",
    "\n",
    "In this activity, you will use the iedfinance api to grab historical data for a 60/40 portfolio using `SPY` to represent the stock portion and `AGG` to represent the bonds."
   ]
  },
  {
   "cell_type": "code",
   "execution_count": 4,
   "metadata": {
    "collapsed": true
   },
   "outputs": [],
   "source": [
    "from iexfinance.stocks import get_historical_data\n",
    "from iexfinance.refdata import get_symbols\n",
    "import iexfinance as iex"
   ]
  },
  {
   "cell_type": "markdown",
   "metadata": {},
   "source": [
    "# Data Collection\n",
    "\n",
    "In this step, you will need to use the IEX api to fetch closing prices for the `SPY` and `AGG` tickers. Save the results as a pandas DataFrame"
   ]
  },
  {
   "cell_type": "code",
   "execution_count": 5,
   "metadata": {
    "collapsed": true
   },
   "outputs": [
    {
     "data": {
      "text/html": [
       "<div>\n",
       "<style scoped>\n",
       "    .dataframe tbody tr th:only-of-type {\n",
       "        vertical-align: middle;\n",
       "    }\n",
       "\n",
       "    .dataframe tbody tr th {\n",
       "        vertical-align: top;\n",
       "    }\n",
       "\n",
       "    .dataframe thead th {\n",
       "        text-align: right;\n",
       "    }\n",
       "</style>\n",
       "<table border=\"1\" class=\"dataframe\">\n",
       "  <thead>\n",
       "    <tr style=\"text-align: right;\">\n",
       "      <th></th>\n",
       "      <th>currency</th>\n",
       "      <th>date</th>\n",
       "      <th>exchange</th>\n",
       "      <th>iexId</th>\n",
       "      <th>isEnabled</th>\n",
       "      <th>name</th>\n",
       "      <th>region</th>\n",
       "      <th>symbol</th>\n",
       "      <th>type</th>\n",
       "    </tr>\n",
       "  </thead>\n",
       "  <tbody>\n",
       "    <tr>\n",
       "      <th>0</th>\n",
       "      <td>USD</td>\n",
       "      <td>2019-09-05</td>\n",
       "      <td>NYS</td>\n",
       "      <td>IEX_46574843354B2D52</td>\n",
       "      <td>True</td>\n",
       "      <td>Agilent Technologies Inc.</td>\n",
       "      <td>US</td>\n",
       "      <td>A</td>\n",
       "      <td>cs</td>\n",
       "    </tr>\n",
       "    <tr>\n",
       "      <th>1</th>\n",
       "      <td>USD</td>\n",
       "      <td>2019-09-05</td>\n",
       "      <td>NYS</td>\n",
       "      <td>IEX_4238333734532D52</td>\n",
       "      <td>True</td>\n",
       "      <td>Alcoa Corp.</td>\n",
       "      <td>US</td>\n",
       "      <td>AA</td>\n",
       "      <td>cs</td>\n",
       "    </tr>\n",
       "    <tr>\n",
       "      <th>2</th>\n",
       "      <td>USD</td>\n",
       "      <td>2019-09-05</td>\n",
       "      <td>PSE</td>\n",
       "      <td>IEX_474B433136332D52</td>\n",
       "      <td>True</td>\n",
       "      <td>Perth Mint Physical Gold ETF</td>\n",
       "      <td>US</td>\n",
       "      <td>AAAU</td>\n",
       "      <td>et</td>\n",
       "    </tr>\n",
       "    <tr>\n",
       "      <th>3</th>\n",
       "      <td>USD</td>\n",
       "      <td>2019-09-05</td>\n",
       "      <td>NAS</td>\n",
       "      <td>IEX_4E5434354A302D52</td>\n",
       "      <td>True</td>\n",
       "      <td>Altaba Inc.</td>\n",
       "      <td>US</td>\n",
       "      <td>AABA</td>\n",
       "      <td>cef</td>\n",
       "    </tr>\n",
       "    <tr>\n",
       "      <th>4</th>\n",
       "      <td>USD</td>\n",
       "      <td>2019-09-05</td>\n",
       "      <td>NYS</td>\n",
       "      <td>IEX_4843364642592D52</td>\n",
       "      <td>True</td>\n",
       "      <td>AAC Holdings Inc.</td>\n",
       "      <td>US</td>\n",
       "      <td>AAC</td>\n",
       "      <td>cs</td>\n",
       "    </tr>\n",
       "  </tbody>\n",
       "</table>\n",
       "</div>"
      ],
      "text/plain": [
       "  currency        date exchange                 iexId  isEnabled  \\\n",
       "0      USD  2019-09-05      NYS  IEX_46574843354B2D52       True   \n",
       "1      USD  2019-09-05      NYS  IEX_4238333734532D52       True   \n",
       "2      USD  2019-09-05      PSE  IEX_474B433136332D52       True   \n",
       "3      USD  2019-09-05      NAS  IEX_4E5434354A302D52       True   \n",
       "4      USD  2019-09-05      NYS  IEX_4843364642592D52       True   \n",
       "\n",
       "                           name region symbol type  \n",
       "0     Agilent Technologies Inc.     US      A   cs  \n",
       "1                   Alcoa Corp.     US     AA   cs  \n",
       "2  Perth Mint Physical Gold ETF     US   AAAU   et  \n",
       "3                   Altaba Inc.     US   AABA  cef  \n",
       "4             AAC Holdings Inc.     US    AAC   cs  "
      ]
     },
     "execution_count": 5,
     "metadata": {},
     "output_type": "execute_result"
    }
   ],
   "source": [
    "list_of_tickers = [\"SPY\", \"AGG\"]\n",
    "tickers = pd.DataFrame(get_symbols())\n",
    "tickers.head()"
   ]
  },
  {
   "cell_type": "markdown",
   "metadata": {},
   "source": [
    "## Get 1 years worth of Data via API call and read in as a dataframe"
   ]
  },
  {
   "cell_type": "code",
   "execution_count": 6,
   "metadata": {},
   "outputs": [
    {
     "data": {
      "text/html": [
       "<div>\n",
       "<style scoped>\n",
       "    .dataframe tbody tr th:only-of-type {\n",
       "        vertical-align: middle;\n",
       "    }\n",
       "\n",
       "    .dataframe tbody tr th {\n",
       "        vertical-align: top;\n",
       "    }\n",
       "\n",
       "    .dataframe thead tr th {\n",
       "        text-align: left;\n",
       "    }\n",
       "\n",
       "    .dataframe thead tr:last-of-type th {\n",
       "        text-align: right;\n",
       "    }\n",
       "</style>\n",
       "<table border=\"1\" class=\"dataframe\">\n",
       "  <thead>\n",
       "    <tr>\n",
       "      <th></th>\n",
       "      <th>SPY</th>\n",
       "      <th>AGG</th>\n",
       "    </tr>\n",
       "    <tr>\n",
       "      <th></th>\n",
       "      <th>close</th>\n",
       "      <th>close</th>\n",
       "    </tr>\n",
       "    <tr>\n",
       "      <th>date</th>\n",
       "      <th></th>\n",
       "      <th></th>\n",
       "    </tr>\n",
       "  </thead>\n",
       "  <tbody>\n",
       "    <tr>\n",
       "      <th>2018-09-05</th>\n",
       "      <td>289.03</td>\n",
       "      <td>106.01</td>\n",
       "    </tr>\n",
       "    <tr>\n",
       "      <th>2018-09-06</th>\n",
       "      <td>288.16</td>\n",
       "      <td>106.19</td>\n",
       "    </tr>\n",
       "    <tr>\n",
       "      <th>2018-09-07</th>\n",
       "      <td>287.60</td>\n",
       "      <td>105.81</td>\n",
       "    </tr>\n",
       "    <tr>\n",
       "      <th>2018-09-10</th>\n",
       "      <td>288.10</td>\n",
       "      <td>105.91</td>\n",
       "    </tr>\n",
       "    <tr>\n",
       "      <th>2018-09-11</th>\n",
       "      <td>289.05</td>\n",
       "      <td>105.73</td>\n",
       "    </tr>\n",
       "  </tbody>\n",
       "</table>\n",
       "</div>"
      ],
      "text/plain": [
       "               SPY     AGG\n",
       "             close   close\n",
       "date                      \n",
       "2018-09-05  289.03  106.01\n",
       "2018-09-06  288.16  106.19\n",
       "2018-09-07  287.60  105.81\n",
       "2018-09-10  288.10  105.91\n",
       "2018-09-11  289.05  105.73"
      ]
     },
     "execution_count": 6,
     "metadata": {},
     "output_type": "execute_result"
    }
   ],
   "source": [
    "list_of_tickers = [\"SPY\", \"AGG\"]\n",
    "\n",
    "end_date= datetime.now()\n",
    "\n",
    "start_date= end_date + timedelta(-365)\n",
    "\n",
    "df = get_historical_data(list_of_tickers,start_date,end_date, output_format=\"pandas\")\n",
    "\n",
    "df.drop(columns=['open', 'high', 'low', 'volume'],level=1, inplace=True)\n",
    "df.head()"
   ]
  },
  {
   "cell_type": "markdown",
   "metadata": {},
   "source": [
    "# Monte Carlo Simulation\n",
    "\n",
    "In this step, you will run Monte Carlo Simulations for your portfolio to model portfolio performance at different retirement ages. \n",
    "\n",
    "Complete the following steps:\n",
    "1. Calculate the daily returns for the SPY and AGG closing prices.\n",
    "2. Calculate volatility for both the SPY and AGG closing prices.\n",
    "3. Find the last day's closing price for both stocks and save those as variables.\n",
    "4. Run a Monte Carlo Simulation of at least 100 iterations and generate at least 20 years of closing prices\n",
    "\n",
    "### HINTS:\n",
    "There are 252 trading days per year, so the number of records to generate for each Monte Carlo run will be 252 days * 20 years"
   ]
  },
  {
   "cell_type": "code",
   "execution_count": 7,
   "metadata": {},
   "outputs": [
    {
     "data": {
      "text/plain": [
       "0.0002937976716919959"
      ]
     },
     "execution_count": 7,
     "metadata": {},
     "output_type": "execute_result"
    }
   ],
   "source": [
    "# Calculate the daily roi for the stocks\n",
    "daily_returns=df.pct_change()\n",
    "\n",
    "avg_daily_spy = daily_returns.mean()['SPY']['close']\n",
    "avg_daily_agg = daily_returns.mean()['AGG']['close']\n",
    "avg_daily_agg"
   ]
  },
  {
   "cell_type": "code",
   "execution_count": 8,
   "metadata": {
    "collapsed": true
   },
   "outputs": [
    {
     "data": {
      "text/plain": [
       "0.0018431141951521215"
      ]
     },
     "execution_count": 8,
     "metadata": {},
     "output_type": "execute_result"
    }
   ],
   "source": [
    "# Calculate volatility\n",
    "\n",
    "\n",
    "\n",
    "std_spy = daily_returns.std()['SPY']['close']\n",
    "std_agg = daily_returns.std()['AGG']['close']\n",
    "std_agg"
   ]
  },
  {
   "cell_type": "code",
   "execution_count": 9,
   "metadata": {
    "collapsed": true
   },
   "outputs": [
    {
     "data": {
      "text/html": [
       "<div>\n",
       "<style scoped>\n",
       "    .dataframe tbody tr th:only-of-type {\n",
       "        vertical-align: middle;\n",
       "    }\n",
       "\n",
       "    .dataframe tbody tr th {\n",
       "        vertical-align: top;\n",
       "    }\n",
       "\n",
       "    .dataframe thead tr th {\n",
       "        text-align: left;\n",
       "    }\n",
       "\n",
       "    .dataframe thead tr:last-of-type th {\n",
       "        text-align: right;\n",
       "    }\n",
       "</style>\n",
       "<table border=\"1\" class=\"dataframe\">\n",
       "  <thead>\n",
       "    <tr>\n",
       "      <th></th>\n",
       "      <th>SPY</th>\n",
       "      <th>AGG</th>\n",
       "    </tr>\n",
       "    <tr>\n",
       "      <th></th>\n",
       "      <th>close</th>\n",
       "      <th>close</th>\n",
       "    </tr>\n",
       "    <tr>\n",
       "      <th>date</th>\n",
       "      <th></th>\n",
       "      <th></th>\n",
       "    </tr>\n",
       "  </thead>\n",
       "  <tbody>\n",
       "    <tr>\n",
       "      <th>2019-09-04</th>\n",
       "      <td>294.04</td>\n",
       "      <td>114.04</td>\n",
       "    </tr>\n",
       "  </tbody>\n",
       "</table>\n",
       "</div>"
      ],
      "text/plain": [
       "               SPY     AGG\n",
       "             close   close\n",
       "date                      \n",
       "2019-09-04  294.04  114.04"
      ]
     },
     "execution_count": 9,
     "metadata": {},
     "output_type": "execute_result"
    }
   ],
   "source": [
    "# Save the last day's closing price\n",
    "\n",
    "last_day=df.tail(1)\n",
    "last_day"
   ]
  },
  {
   "cell_type": "code",
   "execution_count": 10,
   "metadata": {
    "collapsed": true
   },
   "outputs": [],
   "source": [
    "# # Setup the Monte Carlo Parameters\n",
    "# number_simulations = 100\n",
    "# number_records = 252*30\n",
    "\n",
    "# #set last closing prices for SPY and AGG\n",
    "# spy_last = df['SPY']['close'][-1]\n",
    "# agg_last = df['AGG']['close'][-1]\n",
    "\n",
    "# #Empty dataframe created to hold simulation results \n",
    "# simulated_price_df = pd.DataFrame()\n",
    "# portfolio_cumulative_returns = pd.DataFrame()"
   ]
  },
  {
   "cell_type": "code",
   "execution_count": null,
   "metadata": {},
   "outputs": [],
   "source": []
  },
  {
   "cell_type": "code",
   "execution_count": 11,
   "metadata": {},
   "outputs": [
    {
     "data": {
      "text/html": [
       "<div>\n",
       "<style scoped>\n",
       "    .dataframe tbody tr th:only-of-type {\n",
       "        vertical-align: middle;\n",
       "    }\n",
       "\n",
       "    .dataframe tbody tr th {\n",
       "        vertical-align: top;\n",
       "    }\n",
       "\n",
       "    .dataframe thead th {\n",
       "        text-align: right;\n",
       "    }\n",
       "</style>\n",
       "<table border=\"1\" class=\"dataframe\">\n",
       "  <thead>\n",
       "    <tr style=\"text-align: right;\">\n",
       "      <th></th>\n",
       "      <th>0</th>\n",
       "      <th>1</th>\n",
       "      <th>2</th>\n",
       "      <th>3</th>\n",
       "      <th>4</th>\n",
       "      <th>5</th>\n",
       "      <th>6</th>\n",
       "      <th>7</th>\n",
       "      <th>8</th>\n",
       "      <th>9</th>\n",
       "      <th>...</th>\n",
       "      <th>490</th>\n",
       "      <th>491</th>\n",
       "      <th>492</th>\n",
       "      <th>493</th>\n",
       "      <th>494</th>\n",
       "      <th>495</th>\n",
       "      <th>496</th>\n",
       "      <th>497</th>\n",
       "      <th>498</th>\n",
       "      <th>499</th>\n",
       "    </tr>\n",
       "  </thead>\n",
       "  <tbody>\n",
       "    <tr>\n",
       "      <th>7556</th>\n",
       "      <td>4.514112</td>\n",
       "      <td>3.399897</td>\n",
       "      <td>5.162919</td>\n",
       "      <td>5.803028</td>\n",
       "      <td>5.017926</td>\n",
       "      <td>3.416872</td>\n",
       "      <td>4.929556</td>\n",
       "      <td>8.632039</td>\n",
       "      <td>5.205556</td>\n",
       "      <td>5.863985</td>\n",
       "      <td>...</td>\n",
       "      <td>1.016863</td>\n",
       "      <td>5.527179</td>\n",
       "      <td>2.686554</td>\n",
       "      <td>5.106067</td>\n",
       "      <td>6.542223</td>\n",
       "      <td>7.264611</td>\n",
       "      <td>1.421130</td>\n",
       "      <td>3.953829</td>\n",
       "      <td>9.854639</td>\n",
       "      <td>1.504644</td>\n",
       "    </tr>\n",
       "    <tr>\n",
       "      <th>7557</th>\n",
       "      <td>4.504011</td>\n",
       "      <td>3.417110</td>\n",
       "      <td>5.178782</td>\n",
       "      <td>5.794411</td>\n",
       "      <td>4.965733</td>\n",
       "      <td>3.412057</td>\n",
       "      <td>4.894956</td>\n",
       "      <td>8.690561</td>\n",
       "      <td>5.165252</td>\n",
       "      <td>5.854081</td>\n",
       "      <td>...</td>\n",
       "      <td>1.005126</td>\n",
       "      <td>5.521911</td>\n",
       "      <td>2.677887</td>\n",
       "      <td>5.129996</td>\n",
       "      <td>6.535141</td>\n",
       "      <td>7.317349</td>\n",
       "      <td>1.438352</td>\n",
       "      <td>3.952213</td>\n",
       "      <td>9.973768</td>\n",
       "      <td>1.492518</td>\n",
       "    </tr>\n",
       "    <tr>\n",
       "      <th>7558</th>\n",
       "      <td>4.476131</td>\n",
       "      <td>3.417041</td>\n",
       "      <td>5.236336</td>\n",
       "      <td>5.795965</td>\n",
       "      <td>4.983767</td>\n",
       "      <td>3.415148</td>\n",
       "      <td>4.907982</td>\n",
       "      <td>8.700467</td>\n",
       "      <td>5.208057</td>\n",
       "      <td>5.823425</td>\n",
       "      <td>...</td>\n",
       "      <td>1.003544</td>\n",
       "      <td>5.556381</td>\n",
       "      <td>2.677909</td>\n",
       "      <td>5.153458</td>\n",
       "      <td>6.580154</td>\n",
       "      <td>7.281880</td>\n",
       "      <td>1.436036</td>\n",
       "      <td>3.918026</td>\n",
       "      <td>10.061104</td>\n",
       "      <td>1.481933</td>\n",
       "    </tr>\n",
       "    <tr>\n",
       "      <th>7559</th>\n",
       "      <td>4.465423</td>\n",
       "      <td>3.445866</td>\n",
       "      <td>5.257054</td>\n",
       "      <td>5.799982</td>\n",
       "      <td>4.974431</td>\n",
       "      <td>3.437142</td>\n",
       "      <td>4.906038</td>\n",
       "      <td>8.668293</td>\n",
       "      <td>5.217863</td>\n",
       "      <td>5.792254</td>\n",
       "      <td>...</td>\n",
       "      <td>1.011242</td>\n",
       "      <td>5.585445</td>\n",
       "      <td>2.648287</td>\n",
       "      <td>5.102420</td>\n",
       "      <td>6.589695</td>\n",
       "      <td>7.248203</td>\n",
       "      <td>1.455426</td>\n",
       "      <td>3.911512</td>\n",
       "      <td>10.107606</td>\n",
       "      <td>1.481635</td>\n",
       "    </tr>\n",
       "    <tr>\n",
       "      <th>7560</th>\n",
       "      <td>4.454543</td>\n",
       "      <td>3.460164</td>\n",
       "      <td>5.302536</td>\n",
       "      <td>5.800355</td>\n",
       "      <td>4.989542</td>\n",
       "      <td>3.445481</td>\n",
       "      <td>4.899293</td>\n",
       "      <td>8.611331</td>\n",
       "      <td>5.211087</td>\n",
       "      <td>5.788256</td>\n",
       "      <td>...</td>\n",
       "      <td>1.011996</td>\n",
       "      <td>5.623143</td>\n",
       "      <td>2.631723</td>\n",
       "      <td>5.157122</td>\n",
       "      <td>6.593769</td>\n",
       "      <td>7.251922</td>\n",
       "      <td>1.447032</td>\n",
       "      <td>3.872629</td>\n",
       "      <td>10.001812</td>\n",
       "      <td>1.483824</td>\n",
       "    </tr>\n",
       "  </tbody>\n",
       "</table>\n",
       "<p>5 rows × 500 columns</p>\n",
       "</div>"
      ],
      "text/plain": [
       "           0         1         2         3         4         5         6    \\\n",
       "7556  4.514112  3.399897  5.162919  5.803028  5.017926  3.416872  4.929556   \n",
       "7557  4.504011  3.417110  5.178782  5.794411  4.965733  3.412057  4.894956   \n",
       "7558  4.476131  3.417041  5.236336  5.795965  4.983767  3.415148  4.907982   \n",
       "7559  4.465423  3.445866  5.257054  5.799982  4.974431  3.437142  4.906038   \n",
       "7560  4.454543  3.460164  5.302536  5.800355  4.989542  3.445481  4.899293   \n",
       "\n",
       "           7         8         9    ...       490       491       492  \\\n",
       "7556  8.632039  5.205556  5.863985  ...  1.016863  5.527179  2.686554   \n",
       "7557  8.690561  5.165252  5.854081  ...  1.005126  5.521911  2.677887   \n",
       "7558  8.700467  5.208057  5.823425  ...  1.003544  5.556381  2.677909   \n",
       "7559  8.668293  5.217863  5.792254  ...  1.011242  5.585445  2.648287   \n",
       "7560  8.611331  5.211087  5.788256  ...  1.011996  5.623143  2.631723   \n",
       "\n",
       "           493       494       495       496       497        498       499  \n",
       "7556  5.106067  6.542223  7.264611  1.421130  3.953829   9.854639  1.504644  \n",
       "7557  5.129996  6.535141  7.317349  1.438352  3.952213   9.973768  1.492518  \n",
       "7558  5.153458  6.580154  7.281880  1.436036  3.918026  10.061104  1.481933  \n",
       "7559  5.102420  6.589695  7.248203  1.455426  3.911512  10.107606  1.481635  \n",
       "7560  5.157122  6.593769  7.251922  1.447032  3.872629  10.001812  1.483824  \n",
       "\n",
       "[5 rows x 500 columns]"
      ]
     },
     "execution_count": 11,
     "metadata": {},
     "output_type": "execute_result"
    }
   ],
   "source": [
    "\n",
    "# Setup the Monte Carlo Parameters\n",
    "number_simulations = 500\n",
    "number_records = 252*30\n",
    "\n",
    "#set last closing prices for SPY and AGG\n",
    "spy_last = df['SPY']['close'][-1]\n",
    "agg_last = df['AGG']['close'][-1]\n",
    "\n",
    "#Empty dataframe created to hold simulation results \n",
    "simulated_price_df = pd.DataFrame()\n",
    "portfolio_cumulative_returns = pd.DataFrame()\n",
    "\n",
    "# Run the Monte Carlo Simulation\n",
    "for s in range(number_simulations):\n",
    "    \n",
    "    simulated_spy_prices = [spy_last]\n",
    "    simulated_agg_prices = [agg_last]\n",
    "#     print(simulated_spy_prices)\n",
    "    \n",
    "    for i in range(number_records):\n",
    "        \n",
    "        #Calculate the simulated price using the last price within the list\n",
    "        \n",
    "        sim_spy_result = simulated_spy_prices[-1] * (1 + np.random.normal(avg_daily_spy,std_spy))\n",
    "        sim_agg_result = simulated_agg_prices[-1] * (1 + np.random.normal(avg_daily_agg,std_agg))\n",
    "    \n",
    "    \n",
    "        #append result of current sim to prior simulation LIST\n",
    "        \n",
    "        simulated_spy_prices.append(sim_spy_result)\n",
    "        simulated_agg_prices.append(sim_agg_result)\n",
    "    \n",
    "    \n",
    "    #Append a simulated prices of each simulation to DataFrame\n",
    "    \n",
    "    simulated_price_df['SPY Prices']= pd.Series(simulated_spy_prices)\n",
    "    simulated_price_df['AGG Prices']=pd.Series(simulated_agg_prices)\n",
    "    \n",
    "    \n",
    "    #take the daily simulated DataFrame and calculate the % change of the returns\n",
    "    \n",
    "    simulated_daily_returns = simulated_price_df.pct_change()\n",
    "    \n",
    "    # set portfolio weights (60% SPY  40% AGG)\n",
    "    \n",
    "    weights = [0.60, 0.40]\n",
    "    \n",
    "    portfolio_daily_returns = simulated_daily_returns.dot(weights)\n",
    "    \n",
    "    \n",
    "    #calculate the normalized, cumulative return series\n",
    "    portfolio_cumulative_returns[s] = (1+ portfolio_daily_returns.fillna(0)).cumprod()\n",
    "    \n",
    "    \n",
    "    \n",
    "\n",
    "    \n",
    "portfolio_cumulative_returns.tail()"
   ]
  },
  {
   "cell_type": "code",
   "execution_count": 12,
   "metadata": {},
   "outputs": [
    {
     "data": {
      "text/plain": [
       "<matplotlib.axes._subplots.AxesSubplot at 0x20446678358>"
      ]
     },
     "execution_count": 12,
     "metadata": {},
     "output_type": "execute_result"
    },
    {
     "data": {
      "image/png": "[encoded data removed]",
      "text/plain": [
       "<Figure size 432x288 with 1 Axes>"
      ]
     },
     "metadata": {
      "needs_background": "light"
     },
     "output_type": "display_data"
    }
   ],
   "source": [
    "# Visualize the Simulation\n",
    "plot_title = f\"{s+1} Simulations of Cumulative Portfolio Return Trajectories over the next 30 Years\"\n",
    "portfolio_cumulative_returns.plot(legend=None, title=plot_title)"
   ]
  },
  {
   "cell_type": "code",
   "execution_count": 13,
   "metadata": {},
   "outputs": [
    {
     "data": {
      "text/plain": [
       "0       4.454543\n",
       "1       3.460164\n",
       "2       5.302536\n",
       "3       5.800355\n",
       "4       4.989542\n",
       "5       3.445481\n",
       "6       4.899293\n",
       "7       8.611331\n",
       "8       5.211087\n",
       "9       5.788256\n",
       "10      1.872151\n",
       "11      9.928832\n",
       "12      3.885582\n",
       "13      1.824837\n",
       "14      2.788991\n",
       "15      2.708431\n",
       "16      2.302371\n",
       "17      3.472398\n",
       "18     11.657697\n",
       "19      3.345583\n",
       "20      0.788733\n",
       "21      4.809027\n",
       "22      3.159742\n",
       "23      5.446508\n",
       "24      3.958586\n",
       "25      7.899440\n",
       "26      1.462438\n",
       "27      2.064753\n",
       "28      3.866024\n",
       "29      3.076289\n",
       "         ...    \n",
       "470     3.387726\n",
       "471     2.065223\n",
       "472     2.626611\n",
       "473     1.830850\n",
       "474     3.021114\n",
       "475     4.390178\n",
       "476     1.928137\n",
       "477     3.824013\n",
       "478     3.090575\n",
       "479     7.976373\n",
       "480     4.054665\n",
       "481     3.041248\n",
       "482     1.146321\n",
       "483     3.266821\n",
       "484     1.941113\n",
       "485     3.757189\n",
       "486     5.925232\n",
       "487     4.525974\n",
       "488     2.513919\n",
       "489     2.054741\n",
       "490     1.011996\n",
       "491     5.623143\n",
       "492     2.631723\n",
       "493     5.157122\n",
       "494     6.593769\n",
       "495     7.251922\n",
       "496     1.447032\n",
       "497     3.872629\n",
       "498    10.001812\n",
       "499     1.483824\n",
       "Name: 7560, Length: 500, dtype: float64"
      ]
     },
     "execution_count": 13,
     "metadata": {},
     "output_type": "execute_result"
    }
   ],
   "source": [
    "# Select the last row for the cumulative returns (cumulative returns at 30 years)\n",
    "last_day = portfolio_cumulative_returns.iloc[-1,:]\n",
    "\n",
    "last_day"
   ]
  },
  {
   "cell_type": "code",
   "execution_count": 14,
   "metadata": {},
   "outputs": [
    {
     "data": {
      "text/plain": [
       "0      2.022181\n",
       "1      2.339028\n",
       "2      1.683948\n",
       "3      2.710590\n",
       "4      2.992352\n",
       "5      2.030148\n",
       "6      2.335775\n",
       "7      8.678933\n",
       "8      2.275368\n",
       "9      1.886460\n",
       "10     1.055224\n",
       "11     3.622183\n",
       "12     1.750886\n",
       "13     1.463185\n",
       "14     1.958094\n",
       "15     2.905708\n",
       "16     1.362898\n",
       "17     3.412232\n",
       "18     5.667371\n",
       "19     1.862736\n",
       "20     1.071878\n",
       "21     3.903213\n",
       "22     1.683303\n",
       "23     4.087953\n",
       "24     3.496049\n",
       "25     3.313332\n",
       "26     1.002667\n",
       "27     1.222885\n",
       "28     2.500398\n",
       "29     2.476677\n",
       "         ...   \n",
       "470    2.783352\n",
       "471    1.537306\n",
       "472    3.186099\n",
       "473    1.453811\n",
       "474    2.093113\n",
       "475    2.060009\n",
       "476    1.257776\n",
       "477    1.803987\n",
       "478    2.784285\n",
       "479    3.828980\n",
       "480    2.771998\n",
       "481    2.367353\n",
       "482    1.149409\n",
       "483    2.485982\n",
       "484    2.228490\n",
       "485    1.925353\n",
       "486    2.685193\n",
       "487    4.474437\n",
       "488    1.770091\n",
       "489    3.065815\n",
       "490    1.142352\n",
       "491    2.810607\n",
       "492    1.870699\n",
       "493    3.205745\n",
       "494    2.535097\n",
       "495    3.731777\n",
       "496    1.140612\n",
       "497    2.655983\n",
       "498    4.117386\n",
       "499    1.754499\n",
       "Name: 5040, Length: 500, dtype: float64"
      ]
     },
     "execution_count": 14,
     "metadata": {},
     "output_type": "execute_result"
    }
   ],
   "source": [
    "# Select the last row for the cumulative returns (cumulative returns at 20 years)\n",
    "second_last_day = portfolio_cumulative_returns.iloc[5040,:]\n",
    "second_last_day"
   ]
  },
  {
   "cell_type": "code",
   "execution_count": 15,
   "metadata": {},
   "outputs": [
    {
     "data": {
      "text/plain": [
       "<matplotlib.axes._subplots.AxesSubplot at 0x20448c78dd8>"
      ]
     },
     "execution_count": 15,
     "metadata": {},
     "output_type": "execute_result"
    },
    {
     "data": {
      "image/png": "[encoded data removed]",
      "text/plain": [
       "<Figure size 432x288 with 1 Axes>"
      ]
     },
     "metadata": {
      "needs_background": "light"
     },
     "output_type": "display_data"
    }
   ],
   "source": [
    "# Display the 90% confidence interval for the ending returns\n",
    "last_day.plot(kind='hist', bins=30)"
   ]
  },
  {
   "cell_type": "code",
   "execution_count": 16,
   "metadata": {},
   "outputs": [
    {
     "data": {
      "text/plain": [
       "(2.238, 3.902]      0.406\n",
       "(3.902, 5.566]      0.222\n",
       "(0.557, 2.238]      0.172\n",
       "(5.566, 7.23]       0.102\n",
       "(7.23, 8.894]       0.052\n",
       "(8.894, 10.558]     0.022\n",
       "(10.558, 12.222]    0.016\n",
       "(12.222, 13.886]    0.006\n",
       "(15.55, 17.214]     0.002\n",
       "(13.886, 15.55]     0.000\n",
       "Name: 7560, dtype: float64"
      ]
     },
     "execution_count": 16,
     "metadata": {},
     "output_type": "execute_result"
    }
   ],
   "source": [
    "last_day.value_counts(bins=10)/ len(last_day)"
   ]
  },
  {
   "cell_type": "code",
   "execution_count": 17,
   "metadata": {},
   "outputs": [
    {
     "data": {
      "text/plain": [
       "0.05    1.389645\n",
       "0.95    8.777702\n",
       "Name: 7560, dtype: float64"
      ]
     },
     "execution_count": 17,
     "metadata": {},
     "output_type": "execute_result"
    }
   ],
   "source": [
    "confidence_interval = last_day.quantile(q=[.05,.95])\n",
    "confidence_interval"
   ]
  },
  {
   "cell_type": "code",
   "execution_count": 18,
   "metadata": {},
   "outputs": [
    {
     "data": {
      "text/plain": [
       "<matplotlib.lines.Line2D at 0x20448ce1240>"
      ]
     },
     "execution_count": 18,
     "metadata": {},
     "output_type": "execute_result"
    },
    {
     "data": {
      "image/png": "[encoded data removed]",
      "text/plain": [
       "<Figure size 432x288 with 1 Axes>"
      ]
     },
     "metadata": {
      "needs_background": "light"
     },
     "output_type": "display_data"
    }
   ],
   "source": [
    "plt.figure();\n",
    "last_day.plot(kind='hist', density=True, bins=30)\n",
    "plt.axvline(confidence_interval.iloc[0], color='r')\n",
    "plt.axvline(confidence_interval.iloc[1], color = 'r')"
   ]
  },
  {
   "cell_type": "code",
   "execution_count": null,
   "metadata": {},
   "outputs": [],
   "source": []
  },
  {
   "cell_type": "code",
   "execution_count": 19,
   "metadata": {},
   "outputs": [],
   "source": [
    "# Visualize the distribution of the ending returns\n",
    "# YOUR CODE HERE"
   ]
  },
  {
   "cell_type": "markdown",
   "metadata": {},
   "source": [
    "---"
   ]
  },
  {
   "cell_type": "markdown",
   "metadata": {},
   "source": [
    "# Retirement Analysis\n",
    "\n",
    "In this section, you will use the monte carlo model to answer the following retirement planning questions:\n",
    "\n",
    "1. What are the expected cumulative returns at 30 years for the 10th, 50th, and 90th percentiles?\n",
    "2. Given an initial investment of `$20,000`, what is the expected portfolio return in dollars at the 10th, 50th, and 90th percentiles?\n",
    "3. Given the current projected annual income from the Plaid analysis, will a 4% withdraw rate from the retirement portfolio meet or exceed that value at the 10th percentile?\n",
    "4. How would a 50% increase in the initial investment amount affect the 4% retirement withdrawal?"
   ]
  },
  {
   "cell_type": "markdown",
   "metadata": {},
   "source": [
    "### What are the expected cumulative returns at 30 years for the 10th, 50th, and 90th percentiles?"
   ]
  },
  {
   "cell_type": "code",
   "execution_count": 20,
   "metadata": {},
   "outputs": [
    {
     "name": "stdout",
     "output_type": "stream",
     "text": [
      "The Expected cumulative returns for the 10% is 1.389645392584873\n",
      "The Expected cumulative returns for the 90% is 8.777702404414008\n",
      "The Expected cumulative returns for the 50% is 3.530876497470266\n"
     ]
    }
   ],
   "source": [
    "confidence_interval_10 = last_day.quantile(q=[.05])\n",
    "confidence_interval_10\n",
    "confidence_interval_90 = last_day.quantile(q=[.95])\n",
    "confidence_interval_90\n",
    "confidence_interval_50 = last_day.quantile(q=[.5])\n",
    "confidence_interval_50\n",
    "\n",
    "print(f\"The Expected cumulative returns for the 10% is {confidence_interval_10.iloc[0]}\")\n",
    "print(f\"The Expected cumulative returns for the 90% is {confidence_interval_90.iloc[0]}\")\n",
    "\n",
    "print(f\"The Expected cumulative returns for the 50% is {confidence_interval_50.iloc[0]}\")\n"
   ]
  },
  {
   "cell_type": "code",
   "execution_count": 21,
   "metadata": {},
   "outputs": [
    {
     "name": "stdout",
     "output_type": "stream",
     "text": [
      "1.389645392584873\n",
      "3.530876497470266\n",
      "8.777702404414008\n"
     ]
    }
   ],
   "source": [
    "ci10 = confidence_interval_10.iloc[0]\n",
    "ci50 = confidence_interval_50.iloc[0]\n",
    "ci90 = confidence_interval_90.iloc[0]\n",
    "\n",
    "print(ci10)\n",
    "print(ci50)\n",
    "print(ci90)"
   ]
  },
  {
   "cell_type": "markdown",
   "metadata": {},
   "source": [
    "### Given an initial investment of `$20,000`, what is the expected portfolio return in dollars at the 10th, 50th, and 90th percentiles?"
   ]
  },
  {
   "cell_type": "code",
   "execution_count": 22,
   "metadata": {},
   "outputs": [
    {
     "name": "stdout",
     "output_type": "stream",
     "text": [
      "The Expected cumulative returns for the 10% is $27793.0\n",
      "The Expected cumulative returns for the 50% is $70618.0\n",
      "The Expected cumulative returns for the 90% is $175554.0\n"
     ]
    }
   ],
   "source": [
    "initial_investment = 20000\n",
    "\n",
    "investment_pnl_10 = initial_investment * ci10\n",
    "investment_pnl_90 = initial_investment * ci90\n",
    "investment_pnl_50 = initial_investment * ci50\n",
    "\n",
    "print(f\"The Expected cumulative returns for the 10% is ${np.round(investment_pnl_10)}\")\n",
    "print(f\"The Expected cumulative returns for the 50% is ${np.round(investment_pnl_50)}\")\n",
    "\n",
    "print(f\"The Expected cumulative returns for the 90% is ${np.round(investment_pnl_90)}\")\n"
   ]
  },
  {
   "cell_type": "markdown",
   "metadata": {},
   "source": [
    "### Given the current projected annual income from the Plaid analysis, will a 4% withdraw rate from the retirement portfolio meet or exceed that value at the 10th percentile?\n",
    "\n",
    "Note: This is effectively saying that 90% of the expected returns will be greater than the return at the 10th percentile, so this can help measure the uncertainty about having enough funds at retirement"
   ]
  },
  {
   "cell_type": "code",
   "execution_count": 31,
   "metadata": {},
   "outputs": [
    {
     "name": "stdout",
     "output_type": "stream",
     "text": [
      "Account owner does not have a surplus and has short term liquidity needs. \n",
      " These needs should be met by a bond ladder or money market fund\n"
     ]
    }
   ],
   "source": [
    "withdrawal_rate = .04* investment_pnl_10\n",
    "\n",
    "monthly_income = 500\n",
    "\n",
    "if withdrawal_rate >= monthly_income:\n",
    "    print('Account owner does not have a surplus and has short term liquidity needs. \\n These needs should be met by a bond ladder or money market fund')"
   ]
  },
  {
   "cell_type": "markdown",
   "metadata": {},
   "source": [
    "### How would a 50% increase in the initial investment amount affect the 4% retirement withdrawal?"
   ]
  },
  {
   "cell_type": "code",
   "execution_count": 33,
   "metadata": {},
   "outputs": [
    {
     "name": "stdout",
     "output_type": "stream",
     "text": [
      "Account owner is still needing cash on a monthly basis in excess of his monthly income. \n",
      " The income shortfall will need to come from his portfolio. \n"
     ]
    }
   ],
   "source": [
    "new_investment =initial_investment*1.5\n",
    "new_investment\n",
    "\n",
    "monthly_income=500\n",
    "\n",
    "investment_pnl_10_new = new_investment * ci10\n",
    "\n",
    "investment_pnl_10_new\n",
    "second_withdrawal_rate = investment_pnl_10_new*.04\n",
    "\n",
    "if second_withdrawal_rate >= monthly_income:\n",
    "    print(\"Account owner is still needing cash on a monthly basis in excess of his monthly income. \\n The income shortfall will need to come from his portfolio. \")"
   ]
  },
  {
   "cell_type": "markdown",
   "metadata": {},
   "source": [
    "### Optional Challenge\n",
    "\n",
    "In this section, you will calculate and plot the cumulative returns for the median and 90% confidence intervals. This plot shows the expected cumulative returns for any given day between the first day and the last day of investment. "
   ]
  },
  {
   "cell_type": "code",
   "execution_count": 25,
   "metadata": {},
   "outputs": [],
   "source": [
    "# YOUR CODE HERE"
   ]
  }
 ],
 "metadata": {
  "kernel_info": {
   "name": "dev"
  },
  "kernelspec": {
   "display_name": "Python 3",
   "language": "python",
   "name": "python3"
  },
  "language_info": {
   "codemirror_mode": {
    "name": "ipython",
    "version": 3
   },
   "file_extension": ".py",
   "mimetype": "text/x-python",
   "name": "python",
   "nbconvert_exporter": "python",
   "pygments_lexer": "ipython3",
   "version": "3.7.3"
  },
  "nteract": {
   "version": "0.12.3"
  }
 },
 "nbformat": 4,
 "nbformat_minor": 2
}
